{
 "cells": [
  {
   "cell_type": "code",
   "execution_count": 1,
   "source": [
    "import json, yt\n",
    "import matplotlib.pyplot as plt\n",
    "import numpy as np"
   ],
   "outputs": [
    {
     "output_type": "stream",
     "name": "stderr",
     "text": [
      "/home/darksky/anaconda3/envs/deepai/lib/python3.9/site-packages/yt/utilities/logger.py:4: VisibleDeprecationWarning: The configuration file /home/darksky/.config/yt/ytrc is deprecated in favor of /home/darksky/.config/yt/yt.toml. Currently, both are present. Please manually remove the deprecated one to silence this warning.\n",
      "Deprecated since v4.0.0. This feature will be removed in v4.1.0\n",
      "  from yt.config import ytcfg\n"
     ]
    }
   ],
   "metadata": {}
  },
  {
   "cell_type": "code",
   "execution_count": 2,
   "source": [
    "fig, ax = plt.subplots(2,1, figsize=(5.25,5.5), sharex=True)\n",
    "ds = yt.load('/home/darksky/Projects/enzo_sim/phoenix/phx256-1/RD1250/RD1250')\n",
    "sims = ['phx256-1','phx256-2', 'phx512']\n",
    "outs = [1250, 1100, 985]\n",
    "colors = ['tab:blue','tab:green', 'tab:orange'] #distinguish sims\n",
    "linestyles = ['-','-.'] #for p2-p3\n",
    "st_types = ['p2', 'p3']\n",
    "type_lab = ['PII','PIII']\n",
    "min_time = 1e20\n",
    "max_time = 0\n",
    "for i, sim in enumerate(sims):\n",
    "    for j, star in enumerate(st_types):\n",
    "        starfile = '/home/darksky/Projects/phoenix_analysis/%s/RD%04d_%s_starfile.json'%(sim, outs[i], star)\n",
    "        with open(starfile, 'r') as f:\n",
    "            stardict = json.load(f)\n",
    "        tend = float(max(stardict['birth']))\n",
    "        tstart = float(min(stardict['birth']))\n",
    "        if tend > max_time: max_time = tend\n",
    "        if tstart < min_time: min_time = tstart\n",
    "tbins = np.linspace(min_time, max_time, 100)\n",
    "zbins = ds.cosmology.z_from_t(ds.arr(tbins, 'Myr'))\n",
    "for i, sim in enumerate(sims):\n",
    "    for j, star in enumerate(st_types):\n",
    "        starfile = '/home/darksky/Projects/phoenix_analysis/%s/RD%04d_%s_starfile.json'%(sim, outs[i], star)\n",
    "        box_size = 1.765 ** 3 if '256' in sim else 3.53 ** 3\n",
    "        box_size /= 0.6766 ** 3 # Mpc instead of h^-1\n",
    "        with open(starfile, 'r') as f:\n",
    "            stardict = json.load(f)    \n",
    "        dt = (tbins[1] - tbins[0])*1e6 #yr\n",
    "        mbins = np.zeros(101)\n",
    "        nbins = np.zeros(101)\n",
    "        for ii, t in enumerate(stardict['birth']):\n",
    "            if stardict['mass'][ii] <= 300:\n",
    "                tbin = np.digitize(t, tbins)\n",
    "                mbins[tbin] += stardict['mass'][ii]\n",
    "                nbins[tbin] += 1\n",
    "        print(np.unique(mbins))\n",
    "        cnum = np.array([nbins[:ii].sum() for ii in range(len(nbins))])\n",
    "        cmass = np.array([mbins[:ii].sum() if mbins[ii] > 0 else 0 for ii in range(len(mbins))])\n",
    "        \n",
    "        dmdt = np.array([(cmass[ii] - cmass[ii-1])/dt if cmass[ii-1] > 0 else 0 for ii in range(1,len(cmass))]) \\\n",
    "                        / box_size\n",
    "        \n",
    "        tdmdt = tbins.max() - tbins # alter to lookback time\n",
    "\n",
    "        h0 = ax[0].plot(zbins, dmdt, color=colors[i], linestyle = linestyles[j], linewidth=2, alpha=0.7, label='%s: %s'%(sim, type_lab[j]))\n",
    "        h1 = ax[1].plot(zbins[cmass[1:] != 0], cmass[cmass != 0]/ box_size, \n",
    "                       color=colors[i], linestyle = linestyles[j], linewidth=2, alpha=0.7, label='%s: %s'%(sim, type_lab[j]))\n",
    "timeticks = ['%0.1f'%ds.cosmology.t_from_z(z).to('Myr') for z in np.arange(26, 13, -2)]\n",
    "ax[0].set_yscale('log')\n",
    "ax[1].set_yscale('log')\n",
    "ax[0].set_ylim(2e-7, 5e-4)\n",
    "ax[0].set_xlim(12, 28)\n",
    "ax[1].set_xlabel('Redshift')\n",
    "ax[0].set_ylabel('SFRD [M$_\\odot$ yr$^{-1}$ Mpc$^{-3}$]')\n",
    "ax[1].set_ylabel('M$_*$ [M$_\\odot$ Mpc$^{-3}$]')\n",
    "ax[0].legend(ncol=3, frameon=False, loc='upper right', bbox_to_anchor=(1.1,1.25))\n",
    "plt.subplots_adjust(hspace=0.05)\n",
    "plt.savefig('%s/P3-P2_SFR_combined.pdf'%('images'), bbox_inches='tight')"
   ],
   "outputs": [
    {
     "output_type": "stream",
     "name": "stderr",
     "text": [
      "/home/darksky/anaconda3/envs/deepai/lib/python3.9/site-packages/yt/sample_data/api.py:138: UserWarning: Storage directory from yt config doesn't exist (currently set to '/does/not/exist'). Current working directory will be used instead.\n",
      "  warn(\n"
     ]
    },
    {
     "output_type": "error",
     "ename": "FileNotFoundError",
     "evalue": "No such file or directory: 'C:/Users/azton/Projects/phoenix/phx256-1/RD1250/RD1250'.",
     "traceback": [
      "\u001b[0;31m---------------------------------------------------------------------------\u001b[0m",
      "\u001b[0;31mFileNotFoundError\u001b[0m                         Traceback (most recent call last)",
      "\u001b[0;32m/tmp/ipykernel_92950/3686477978.py\u001b[0m in \u001b[0;36m<module>\u001b[0;34m\u001b[0m\n\u001b[1;32m      1\u001b[0m \u001b[0mfig\u001b[0m\u001b[0;34m,\u001b[0m \u001b[0max\u001b[0m \u001b[0;34m=\u001b[0m \u001b[0mplt\u001b[0m\u001b[0;34m.\u001b[0m\u001b[0msubplots\u001b[0m\u001b[0;34m(\u001b[0m\u001b[0;36m2\u001b[0m\u001b[0;34m,\u001b[0m\u001b[0;36m1\u001b[0m\u001b[0;34m,\u001b[0m \u001b[0mfigsize\u001b[0m\u001b[0;34m=\u001b[0m\u001b[0;34m(\u001b[0m\u001b[0;36m5.25\u001b[0m\u001b[0;34m,\u001b[0m\u001b[0;36m5.5\u001b[0m\u001b[0;34m)\u001b[0m\u001b[0;34m,\u001b[0m \u001b[0msharex\u001b[0m\u001b[0;34m=\u001b[0m\u001b[0;32mTrue\u001b[0m\u001b[0;34m)\u001b[0m\u001b[0;34m\u001b[0m\u001b[0;34m\u001b[0m\u001b[0m\n\u001b[0;32m----> 2\u001b[0;31m \u001b[0mds\u001b[0m \u001b[0;34m=\u001b[0m \u001b[0myt\u001b[0m\u001b[0;34m.\u001b[0m\u001b[0mload\u001b[0m\u001b[0;34m(\u001b[0m\u001b[0;34m'C:/Users/azton/Projects/phoenix/phx256-1/RD1250/RD1250'\u001b[0m\u001b[0;34m)\u001b[0m\u001b[0;34m\u001b[0m\u001b[0;34m\u001b[0m\u001b[0m\n\u001b[0m\u001b[1;32m      3\u001b[0m \u001b[0msims\u001b[0m \u001b[0;34m=\u001b[0m \u001b[0;34m[\u001b[0m\u001b[0;34m'phx256-1'\u001b[0m\u001b[0;34m,\u001b[0m\u001b[0;34m'phx256-2'\u001b[0m\u001b[0;34m,\u001b[0m \u001b[0;34m'phx512'\u001b[0m\u001b[0;34m]\u001b[0m\u001b[0;34m\u001b[0m\u001b[0;34m\u001b[0m\u001b[0m\n\u001b[1;32m      4\u001b[0m \u001b[0mouts\u001b[0m \u001b[0;34m=\u001b[0m \u001b[0;34m[\u001b[0m\u001b[0;36m1250\u001b[0m\u001b[0;34m,\u001b[0m \u001b[0;36m1100\u001b[0m\u001b[0;34m,\u001b[0m \u001b[0;36m985\u001b[0m\u001b[0;34m]\u001b[0m\u001b[0;34m\u001b[0m\u001b[0;34m\u001b[0m\u001b[0m\n\u001b[1;32m      5\u001b[0m \u001b[0mcolors\u001b[0m \u001b[0;34m=\u001b[0m \u001b[0;34m[\u001b[0m\u001b[0;34m'tab:blue'\u001b[0m\u001b[0;34m,\u001b[0m\u001b[0;34m'tab:green'\u001b[0m\u001b[0;34m,\u001b[0m \u001b[0;34m'tab:orange'\u001b[0m\u001b[0;34m]\u001b[0m \u001b[0;31m#distinguish sims\u001b[0m\u001b[0;34m\u001b[0m\u001b[0;34m\u001b[0m\u001b[0m\n",
      "\u001b[0;32m~/anaconda3/envs/deepai/lib/python3.9/site-packages/yt/loaders.py\u001b[0m in \u001b[0;36mload\u001b[0;34m(fn, *args, **kwargs)\u001b[0m\n\u001b[1;32m     80\u001b[0m     \u001b[0;31m# either in the current dir or yt.config.ytcfg['data_dir_directory']\u001b[0m\u001b[0;34m\u001b[0m\u001b[0;34m\u001b[0m\u001b[0m\n\u001b[1;32m     81\u001b[0m     \u001b[0;32mif\u001b[0m \u001b[0;32mnot\u001b[0m \u001b[0mfn\u001b[0m\u001b[0;34m.\u001b[0m\u001b[0mstartswith\u001b[0m\u001b[0;34m(\u001b[0m\u001b[0;34m\"http\"\u001b[0m\u001b[0;34m)\u001b[0m\u001b[0;34m:\u001b[0m\u001b[0;34m\u001b[0m\u001b[0;34m\u001b[0m\u001b[0m\n\u001b[0;32m---> 82\u001b[0;31m         \u001b[0mfn\u001b[0m \u001b[0;34m=\u001b[0m \u001b[0mstr\u001b[0m\u001b[0;34m(\u001b[0m\u001b[0mlookup_on_disk_data\u001b[0m\u001b[0;34m(\u001b[0m\u001b[0mfn\u001b[0m\u001b[0;34m)\u001b[0m\u001b[0;34m)\u001b[0m\u001b[0;34m\u001b[0m\u001b[0;34m\u001b[0m\u001b[0m\n\u001b[0m\u001b[1;32m     83\u001b[0m \u001b[0;34m\u001b[0m\u001b[0m\n\u001b[1;32m     84\u001b[0m     \u001b[0mcandidates\u001b[0m \u001b[0;34m=\u001b[0m \u001b[0;34m[\u001b[0m\u001b[0;34m]\u001b[0m\u001b[0;34m\u001b[0m\u001b[0;34m\u001b[0m\u001b[0m\n",
      "\u001b[0;32m~/anaconda3/envs/deepai/lib/python3.9/site-packages/yt/sample_data/api.py\u001b[0m in \u001b[0;36mlookup_on_disk_data\u001b[0;34m(fn)\u001b[0m\n\u001b[1;32m    166\u001b[0m     \u001b[0merr_msg\u001b[0m \u001b[0;34m=\u001b[0m \u001b[0;34mf\"No such file or directory: '{fn}'.\"\u001b[0m\u001b[0;34m\u001b[0m\u001b[0;34m\u001b[0m\u001b[0m\n\u001b[1;32m    167\u001b[0m     \u001b[0;32mif\u001b[0m \u001b[0;32mnot\u001b[0m \u001b[0malt_path\u001b[0m\u001b[0;34m.\u001b[0m\u001b[0mparent\u001b[0m\u001b[0;34m.\u001b[0m\u001b[0mis_dir\u001b[0m\u001b[0;34m(\u001b[0m\u001b[0;34m)\u001b[0m\u001b[0;34m:\u001b[0m\u001b[0;34m\u001b[0m\u001b[0;34m\u001b[0m\u001b[0m\n\u001b[0;32m--> 168\u001b[0;31m         \u001b[0;32mraise\u001b[0m \u001b[0mFileNotFoundError\u001b[0m\u001b[0;34m(\u001b[0m\u001b[0merr_msg\u001b[0m\u001b[0;34m)\u001b[0m\u001b[0;34m\u001b[0m\u001b[0;34m\u001b[0m\u001b[0m\n\u001b[0m\u001b[1;32m    169\u001b[0m \u001b[0;34m\u001b[0m\u001b[0m\n\u001b[1;32m    170\u001b[0m     \u001b[0;32mif\u001b[0m \u001b[0;32mnot\u001b[0m \u001b[0malt_path\u001b[0m\u001b[0;34m.\u001b[0m\u001b[0mexists\u001b[0m\u001b[0;34m(\u001b[0m\u001b[0;34m)\u001b[0m\u001b[0;34m:\u001b[0m\u001b[0;34m\u001b[0m\u001b[0;34m\u001b[0m\u001b[0m\n",
      "\u001b[0;31mFileNotFoundError\u001b[0m: No such file or directory: 'C:/Users/azton/Projects/phoenix/phx256-1/RD1250/RD1250'."
     ]
    },
    {
     "output_type": "display_data",
     "data": {
      "image/png": "[encoded data removed]",
      "text/plain": [
       "<Figure size 378x396 with 2 Axes>"
      ]
     },
     "metadata": {
      "needs_background": "light"
     }
    }
   ],
   "metadata": {}
  },
  {
   "cell_type": "code",
   "execution_count": 29,
   "source": [
    "ds.cosmology.z_from_t(ds.quan(138.9, 'Myr'))"
   ],
   "outputs": [
    {
     "output_type": "execute_result",
     "data": {
      "text/plain": [
       "23.913890794295174"
      ]
     },
     "metadata": {},
     "execution_count": 29
    }
   ],
   "metadata": {}
  },
  {
   "cell_type": "code",
   "execution_count": 1,
   "source": [
    "import yt\n",
    "ds = yt.load(\"phoenix\")\n"
   ],
   "outputs": [
    {
     "output_type": "error",
     "ename": "NameError",
     "evalue": "name 'star' is not defined",
     "traceback": [
      "\u001b[0;31m---------------------------------------------------------------------------\u001b[0m",
      "\u001b[0;31mNameError\u001b[0m                                 Traceback (most recent call last)",
      "\u001b[0;32m/tmp/ipykernel_8246/359556564.py\u001b[0m in \u001b[0;36m<module>\u001b[0;34m\u001b[0m\n\u001b[1;32m      1\u001b[0m \u001b[0msim\u001b[0m \u001b[0;34m=\u001b[0m \u001b[0;34m'phx256-1'\u001b[0m\u001b[0;34m\u001b[0m\u001b[0;34m\u001b[0m\u001b[0m\n\u001b[1;32m      2\u001b[0m \u001b[0mouts\u001b[0m \u001b[0;34m=\u001b[0m \u001b[0;36m1250\u001b[0m\u001b[0;34m\u001b[0m\u001b[0;34m\u001b[0m\u001b[0m\n\u001b[0;32m----> 3\u001b[0;31m \u001b[0mstarfile\u001b[0m \u001b[0;34m=\u001b[0m \u001b[0;34m'C:/Users/azton/Projects/phoenix_analysis/%s/RD%04d_%s_starfile.json'\u001b[0m\u001b[0;34m%\u001b[0m\u001b[0;34m(\u001b[0m\u001b[0msim\u001b[0m\u001b[0;34m,\u001b[0m \u001b[0mouts\u001b[0m\u001b[0;34m,\u001b[0m \u001b[0mstar\u001b[0m\u001b[0;34m)\u001b[0m\u001b[0;34m\u001b[0m\u001b[0;34m\u001b[0m\u001b[0m\n\u001b[0m\u001b[1;32m      4\u001b[0m \u001b[0mbox_size\u001b[0m \u001b[0;34m=\u001b[0m \u001b[0;36m1.765\u001b[0m \u001b[0;34m**\u001b[0m \u001b[0;36m3\u001b[0m \u001b[0;32mif\u001b[0m \u001b[0;34m'256'\u001b[0m \u001b[0;32min\u001b[0m \u001b[0msim\u001b[0m \u001b[0;32melse\u001b[0m \u001b[0;36m3.53\u001b[0m \u001b[0;34m**\u001b[0m \u001b[0;36m3\u001b[0m\u001b[0;34m\u001b[0m\u001b[0;34m\u001b[0m\u001b[0m\n\u001b[1;32m      5\u001b[0m \u001b[0mbox_size\u001b[0m \u001b[0;34m/=\u001b[0m \u001b[0;36m0.6766\u001b[0m \u001b[0;34m**\u001b[0m \u001b[0;36m3\u001b[0m \u001b[0;31m# Mpc instead of h^-1\u001b[0m\u001b[0;34m\u001b[0m\u001b[0;34m\u001b[0m\u001b[0m\n",
      "\u001b[0;31mNameError\u001b[0m: name 'star' is not defined"
     ]
    }
   ],
   "metadata": {}
  },
  {
   "cell_type": "code",
   "execution_count": null,
   "source": [],
   "outputs": [],
   "metadata": {}
  }
 ],
 "metadata": {
  "kernelspec": {
   "name": "python3",
   "display_name": "Python 3.9.7 64-bit ('deepai': conda)"
  },
  "language_info": {
   "codemirror_mode": {
    "name": "ipython",
    "version": 3
   },
   "file_extension": ".py",
   "mimetype": "text/x-python",
   "name": "python",
   "nbconvert_exporter": "python",
   "pygments_lexer": "ipython3",
   "version": "3.9.7"
  },
  "interpreter": {
   "hash": "6bfafc404845f188b5e9bce1a98273505aedac0d688a8967aa5f317d5e1cc9d4"
  }
 },
 "nbformat": 4,
 "nbformat_minor": 4
}
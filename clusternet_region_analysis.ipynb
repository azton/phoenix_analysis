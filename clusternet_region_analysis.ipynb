{
 "cells": [
  {
   "cell_type": "code",
   "execution_count": 1,
   "metadata": {},
   "outputs": [],
   "source": [
    "import json, glob, os\n",
    "import numpy as np\n",
    "import matplotlib.pyplot as plt\n",
    "%matplotlib inline"
   ]
  },
  {
   "cell_type": "code",
   "execution_count": 3,
   "metadata": {},
   "outputs": [
    {
     "name": "stdout",
     "output_type": "stream",
     "text": [
      "dict_keys(['current_time', 'p3_stars', 'p2_stars', 'p3_remnants', 'p3_bh', 'p3_bh_birth', 'p3_bh_masses', 'remnant_birth', 'remnant_masses', 'p3_formation_time', 'p3_masses', 'p2_formation_time', 'p2_masses', 'p3_lifetimes', 'enriched_formation_metal', '%s_rloc'])\n",
      "<class 'list'> 0\n"
     ]
    }
   ],
   "source": [
    "rpath = 'D:/starnet/network_data/Feedback_128x90.00_ClusterNet_no_remnant/region_log/phx256-1'\n",
    "rfiles = glob.glob('%s/*'%(rpath))\n",
    "\n",
    "with open(rfiles[0], 'r') as f:\n",
    "    data = json.load(f)\n",
    "\n",
    "print(data['post_state'].keys())\n",
    "print(type(data['post_state']['p2_stars']), len(data['post_state']['p2_stars']))\n"
   ]
  },
  {
   "cell_type": "code",
   "execution_count": 4,
   "metadata": {
    "tags": []
   },
   "outputs": [
    {
     "name": "stdout",
     "output_type": "stream",
     "text": [
      "n_prior_p2: 0 \n",
      "n_nop2:  326 \n",
      "n_nop3 in post:  7 \n",
      "all qualifying regions:  326\n",
      "[]\n",
      "[]\n"
     ]
    }
   ],
   "source": [
    "p2s = []\n",
    "p2form = []\n",
    "dts = []\n",
    "high_p2_pids = []\n",
    "neg_dt = []\n",
    "dt_cnt = [[],[]]\n",
    "p2mass = []\n",
    "p3mass = []\n",
    "nop2_cnt = 0\n",
    "all_cnt = 0\n",
    "prior_p2 = 0\n",
    "nopostp3 = 0\n",
    "for rfile in rfiles:\n",
    "    with open(rfile, 'r') as f:\n",
    "        data = json.load(f)\n",
    "    ftime = min(data['post_state']['p3_formation_time']) if len(data['post_state']['p3_formation_time']) > 0 else 1e20\n",
    "    ftime = min(ftime, min(data['post_state']['remnant_birth']) if data['post_state']['remnant_birth'] else -1)\n",
    "    npriorp2 = len(data['prior_state']['p2_stars'])\n",
    "    if ftime < 0:\n",
    "        nopostp3 += 1\n",
    "    if npriorp2:\n",
    "        prior_p2 += 1\n",
    "    if ftime > 0 and npriorp2 == 0:\n",
    "        all_cnt += 1\n",
    "        if sorted(data['post_state']['p2_stars']) == sorted(data['prior_state']['p2_stars']):\n",
    "            nop2_cnt += 1\n",
    "        dts += [data['post_state']['current_time'] - data['prior_state']['current_time']]\n",
    "        # if dt < 30:\n",
    "        p2s += [len(data['post_state']['p2_stars'])] \n",
    "        p2form += [t - data['prior_state']['current_time'] \n",
    "                    if data['post_state']['p2_stars'][i] not in data['prior_state']['p2_stars'] else -1 \n",
    "                    for i, t in enumerate(data['post_state']['p2_formation_time'])]\n",
    "        p3mass += [\n",
    "            sum(data['post_state']['p3_masses'])]\n",
    "        p2mass += [sum(data['post_state']['p2_masses']) - sum(data['prior_state']['p2_masses'])]\n",
    "        if len(data['post_state']['p2_stars']) > 50:\n",
    "            high_p2_pids.append(\n",
    "                int(os.path.split(rfile)[-1].split('_')[-1].split('.')[0])\n",
    "            )\n",
    "\n",
    "        if np.any(np.array([t - ftime for t in data['post_state']['p2_formation_time']]) < 0) and ftime > 0:\n",
    "            neg_dt.append(\n",
    "                int(os.path.split(rfile)[-1].split('_')[-1].split('.')[0])\n",
    "            )\n",
    "            dt_cnt[0].append(min([t - data['prior_state']['current_time'] for t in data['post_state']['p2_formation_time']]))\n",
    "            dt_cnt[1].append(len(data['post_state']['p2_stars']))\n",
    "\n",
    "print('n_prior_p2:',prior_p2, \n",
    "        '\\nn_nop2: ', nop2_cnt, \n",
    "        '\\nn_nop3 in post: ',nopostp3, \n",
    "        '\\nall qualifying regions: ',all_cnt)\n",
    "print(high_p2_pids)\n",
    "print(neg_dt)"
   ]
  },
  {
   "cell_type": "code",
   "execution_count": 5,
   "metadata": {},
   "outputs": [
    {
     "name": "stderr",
     "output_type": "stream",
     "text": [
      "C:\\Users\\azton\\Anaconda3\\lib\\site-packages\\numpy\\lib\\histograms.py:905: RuntimeWarning: invalid value encountered in true_divide\n",
      "  return n/db/n.sum(), bin_edges\n",
      "<ipython-input-5-b2538416502d>:17: UserWarning: Data has no positive values, and therefore cannot be log-scaled.\n",
      "  ax[3].set_yscale('log')\n"
     ]
    },
    {
     "data": {
      "image/png": "[encoded data removed]",
      "text/plain": [
       "<Figure size 864x1296 with 5 Axes>"
      ]
     },
     "metadata": {
      "needs_background": "light"
     },
     "output_type": "display_data"
    }
   ],
   "source": [
    "fig, ax = plt.subplots(5, figsize=(12,18))\n",
    "\n",
    "p2s = np.array(p2s)\n",
    "np2forms = (p2s[p2s == 0]).size\n",
    "nfew = (p2s[p2s < 5]).size\n",
    "nlots = (p2s[p2s < 15]).size\n",
    "p2form = np.array(p2form)\n",
    "p2mass = np.array(p2mass)[np.array(p2mass) > 1]\n",
    "n_neg = p2form[p2form < 0].size\n",
    "nop3chng = (np.array(p3mass)[np.array(p3mass) == 0]).size\n",
    "\n",
    "ax[0].hist(p2s, bins=25)\n",
    "ax[1].hist(p2form, bins=25, range=[0,20], cumulative = True, histtype='step', density=True)\n",
    "# ax[1].set_yscale('log')\n",
    "ax[2].scatter(dt_cnt[0], dt_cnt[1])\n",
    "ax[3].hist(p2mass, bins=25)\n",
    "ax[3].set_yscale('log')\n",
    "# ax3t = ax[3].twiny()\n",
    "hist, p3bins, _ = ax[4].hist(p3mass, bins=100, range=[0,500], alpha = 0.5, color='tab:blue', density=True)\n",
    "p3mass = np.array(p3mass)\n",
    "p3nop2 = p3mass[p2s == 0]\n",
    "ax[4].hist(p3nop2, bins=p3bins, alpha=0.5, color='tab:orange', density=True)\n",
    "ax[4].set_yscale('log')\n",
    "\n",
    "ax[4].set_title('%d no change'%nop3chng)\n",
    "ax[0].set_yscale('log')\n",
    "ax[0].set_title('$N_{!P2} = %d, %d, %d$'%(np2forms, nfew, nlots))\n",
    "ax[1].set_title('$N_{neg} = %d/%d$'%(len(neg_dt), len(p2form)))\n",
    "\n",
    "plt.savefig('images/cluster_regions_analysis.pdf')"
   ]
  },
  {
   "cell_type": "code",
   "execution_count": 10,
   "metadata": {},
   "outputs": [
    {
     "name": "stdout",
     "output_type": "stream",
     "text": [
      "581 0\n"
     ]
    }
   ],
   "source": [
    "print(p2form[p2form > 0].size, p2form[p2form == 0].size)"
   ]
  },
  {
   "cell_type": "code",
   "execution_count": 51,
   "metadata": {},
   "outputs": [
    {
     "name": "stdout",
     "output_type": "stream",
     "text": [
      "(333, 30)\n"
     ]
    },
    {
     "data": {
      "image/png": "[encoded data removed]",
      "text/plain": [
       "<Figure size 432x288 with 2 Axes>"
      ]
     },
     "metadata": {
      "needs_background": "light"
     },
     "output_type": "display_data"
    }
   ],
   "source": [
    "# plotting p3 mass as fn of time in regions:\n",
    "meanvals = []\n",
    "fig, ax = plt.subplots(1,2)\n",
    "for rfile in rfiles:\n",
    "    timebins = np.linspace(0, 17, 30)\n",
    "    binvals = np.zeros((31))\n",
    "    with open(rfile, 'r') as f:\n",
    "        data = json.load(f)\n",
    "    tnow = data['prior_state']['current_time']\n",
    "    tbins = np.digitize([t-tnow for t in data['post_state']['p3_formation_time']], timebins)\n",
    "    for i, t in enumerate(tbins):\n",
    "        binvals[t] += data['post_state']['p3_masses'][i]\n",
    "    tbins = np.digitize([t-tnow for t in data['post_state']['remnant_birth']], timebins)\n",
    "    for i, t in enumerate(tbins):\n",
    "        binvals[t] += data['post_state']['remnant_masses'][i]\n",
    "    binvals = np.array([binvals[:i].sum() for i in range(1, binvals.size)])\n",
    "    meanvals.append(binvals.tolist())\n",
    "#     ax[0].plot(timebins, binvals, alpha=0.1, color='tab:blue')\n",
    "\n",
    "sfrs = []\n",
    "for r in meanvals:\n",
    "    sfr = [(r[i]-r[i-1])/dt/1e6 for i in range(1,len(r))]\n",
    "    sfrs.append(sfr)\n",
    "meanvals = np.array(meanvals)\n",
    "print(meanvals.shape)\n",
    "meanstd = meanvals.std(0)\n",
    "meanvals = meanvals.mean(0)\n",
    "dt = timebins[1]-timebins[0]\n",
    "\n",
    "meansfr = np.array(sfrs).mean(0)\n",
    "stdsfr = np.array(sfrs).std(0)\n",
    "\n",
    "ax[0].plot(timebins, meanvals, alpha=1.0, color='k')\n",
    "ax[0].fill_between(timebins, meanvals, meanvals + meanstd, color='tab:green',alpha=0.4)\n",
    "ax[0].fill_between(timebins, meanvals, meanvals - meanstd, color='tab:green',alpha=0.4)\n",
    "# for sfr in sfrs:\n",
    "ax[1].plot(timebins[1:], meansfr, alpha=1, color='k')\n",
    "ax[1].fill_between(timebins[1:], meansfr, meansfr+stdsfr, color='tab:green', alpha=0.4)\n",
    "ax[1].fill_between(timebins[1:], meansfr, meansfr-stdsfr, color='tab:green', alpha=0.4)\n",
    "ax[1].yaxis.tick_right()\n",
    "ax[0].set_ylabel('M$_*$')\n",
    "fig.supxlabel('t [Myr]')\n",
    "ax[1].yaxis.set_label_position('right')\n",
    "ax[1].set_ylabel('SFR [$M_\\odot yr^{-1}$]')\n",
    "ax[1].set_ylim(1e-7, 7e-4)\n",
    "ax[1].set_yscale('log')\n",
    "plt.subplots_adjust(wspace=0.0)"
   ]
  },
  {
   "cell_type": "code",
   "execution_count": 11,
   "metadata": {},
   "outputs": [
    {
     "data": {
      "image/png": "[encoded data removed]",
      "text/plain": [
       "<Figure size 432x288 with 1 Axes>"
      ]
     },
     "metadata": {
      "needs_background": "light"
     },
     "output_type": "display_data"
    }
   ],
   "source": [
    "withp2_mass = []\n",
    "nop2_mass = []\n",
    "for rfile in rfiles:\n",
    "    with open(rfile, 'r') as f:\n",
    "        data = json.load(f)\n",
    "    if len(data['post_state']['p2_masses']) > 0:\n",
    "        withp2_mass += data['post_state']['p3_masses']\n",
    "        withp2_mass += data['post_state']['remnant_masses']\n",
    "        withp2_mass += data['post_state']['p3_bh_masses']\n",
    "        \n",
    "    else:\n",
    "        nop2_mass += data['post_state']['p3_masses']\n",
    "        nop2_mass += data['post_state']['remnant_masses']\n",
    "        nop2_mass += data['post_state']['p3_bh_masses']\n",
    "        \n",
    "fig, ax = plt.subplots()\n",
    "# bins = np.array([i for i in range(11,41)] + [i for i in range(140, 261, 5)])\n",
    "ax.hist([withp2_mass, nop2_mass], bins=25, label = ['P2','No P2'], density=True)\n",
    "ax.vlines([20], 1e-4, 1e-1)\n",
    "ax.legend()\n",
    "ax.set_yscale('log')\n"
   ]
  },
  {
   "cell_type": "code",
   "execution_count": 8,
   "metadata": {},
   "outputs": [
    {
     "data": {
      "text/plain": [
       "0.41058823529411764"
      ]
     },
     "execution_count": 8,
     "metadata": {},
     "output_type": "execute_result"
    }
   ],
   "source": [
    "349/850\n"
   ]
  },
  {
   "cell_type": "code",
   "execution_count": null,
   "metadata": {},
   "outputs": [],
   "source": []
  }
 ],
 "metadata": {
  "interpreter": {
   "hash": "f15fd68264002f5990f0fe1526a681ab3db670be95d2fe0b80664cdfc577c043"
  },
  "kernelspec": {
   "display_name": "Python 3",
   "language": "python",
   "name": "python3"
  },
  "language_info": {
   "codemirror_mode": {
    "name": "ipython",
    "version": 3
   },
   "file_extension": ".py",
   "mimetype": "text/x-python",
   "name": "python",
   "nbconvert_exporter": "python",
   "pygments_lexer": "ipython3",
   "version": "3.8.5"
  }
 },
 "nbformat": 4,
 "nbformat_minor": 2
}

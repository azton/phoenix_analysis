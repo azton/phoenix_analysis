{
 "cells": [
  {
   "cell_type": "code",
   "execution_count": null,
   "metadata": {},
   "outputs": [],
   "source": [
    "import matplotlib.pyplot as plt\n",
    "import json, glob\n",
    "import numpy as np\n"
   ]
  },
  {
   "cell_type": "code",
   "execution_count": null,
   "metadata": {},
   "outputs": [],
   "source": [
    "datadest = 'C:/Users/azton/Projects/phoenix_analysis/enriched_stats'\n",
    "sim = 'phx256-1'\n",
    "simdicts = glob.glob('%s/*_%s.json'%(datadest, sim))\n",
    "with open(simdicts[0], 'r') as f:\n",
    "    data = json.load(f)\n",
    "for i, file in enumerate(simdicts):\n",
    "    if i == 0: continue\n",
    "    with open(file, 'r') as f:\n",
    "        ndata = json.load(f)\n",
    "    for k in data.keys():\n",
    "        if type(data[k]) == list:\n",
    "            data[k] += ndata[k]\n",
    "        else:\n",
    "            for kk in data[k].keys():\n",
    "                data[k][kk] += ndata[k][kk]"
   ]
  },
  {
   "cell_type": "code",
   "execution_count": null,
   "metadata": {},
   "outputs": [],
   "source": [
    "sort_inds = np.argsort(data['t'])\n",
    "for k in data.keys():\n",
    "    if type(data[k]) == list:\n",
    "        data[k] = [data[k][i] for i in sort_inds]\n",
    "    else:\n",
    "        for kk in data[k].keys():\n",
    "            data[k][kk] = [data[k][kk][i] for i in sort_inds]"
   ]
  },
  {
   "cell_type": "code",
   "execution_count": null,
   "metadata": {},
   "outputs": [],
   "source": [
    "fig, ax = plt.subplots(figsize=(6,3))\n",
    "for k in data['f_enr_od']:\n",
    "    ax.plot(data['z'], data['f_enr_od'][k], label = '$\\\\rho/\\\\bar\\\\rho > $%s'%k if k != '<1' else '$\\\\rho/\\\\bar\\\\rho %s$'%k)\n",
    "ax.legend(bbox_to_anchor=(1,1))\n",
    "ax.set_ylabel(\"F$_{enriched}$\")\n",
    "ax.set_xlabel('Lookback Time [Myr]')\n",
    "ax.set_yscale('log')\n",
    "plt.savefig('enriched_stats/f_enrich-overdense.pdf', bbox_inches='tight')\n"
   ]
  },
  {
   "cell_type": "code",
   "execution_count": null,
   "metadata": {},
   "outputs": [],
   "source": [
    "fig, ax = plt.subplots(figsize=(8,4))\n",
    "time = [max(data['t'])-t for t in data['t']]\n",
    "for k in data['f_enr_high']:\n",
    "    ax.plot(time, data['f_enr_high'][k], label = '$Z_c = $%0.2e'%float(k))\n",
    "ax.legend(bbox_to_anchor=(1,1))\n",
    "ax.set_ylabel(\"F$_{enriched}$\")\n",
    "ax.set_xlabel('Lookback Time [Myr]')\n",
    "ax.set_yscale('log')\n",
    "plt.savefig('enriched_stats/f_enrich-zdist.pdf', bbox_inches='tight')"
   ]
  },
  {
   "cell_type": "code",
   "execution_count": null,
   "metadata": {},
   "outputs": [],
   "source": [
    "fig, ax = plt.subplots(figsize=(8,4))\n",
    "# zdiff = [ data['p3_f_enr'][j] - (data['f_enr'][j] -data['p3_f_enr'][j]) for j in range(len(data['f_enr']))]\n",
    "ax.plot(data['z'], data['p3_f_enr'], label='$Z_{III}$')\n",
    "ax.plot(data['z'], data['f_enr'], label='$Z_\\\\sum$')\n",
    "ax.legend()\n",
    "ax.set_ylabel(\"f$_{enriched}(Z > Z_c)$\")\n",
    "ax.set_xlabel('Lookback Time [Myr]')\n",
    "ax.set_yscale('log')\n",
    "plt.savefig('enriched_stats/f_enrich-p3-psum.pdf', bbox_inches='tight')"
   ]
  },
  {
   "cell_type": "code",
   "execution_count": null,
   "metadata": {},
   "outputs": [],
   "source": [
    "fig, ax = plt.subplots(figsize=(3,4))\n",
    "for k in data['ion_frac']:\n",
    "    if np.all(np.array(data['ion_frac'][k]) < 1):\n",
    "        ax.plot(data['z'], data['ion_frac'][k], label = '$f_{\\\\rm ion} > $%0.3f'%(float(k)))\n",
    "ax.legend(bbox_to_anchor=(1,1))\n",
    "ax.set_ylabel(\"F$_{ionized}$\")\n",
    "ax.set_xlabel('Lookback Time [Myr]')\n",
    "ax.set_yscale('log')\n",
    "plt.savefig('enriched_stats/f_ionized.pdf', bbox_inches='tight')"
   ]
  },
  {
   "cell_type": "code",
   "execution_count": null,
   "metadata": {},
   "outputs": [],
   "source": []
  }
 ],
 "metadata": {
  "interpreter": {
   "hash": "f8fd0ebcc91086284fa285d2011bb83d7c657366e941a26b17e92d9a492ac51c"
  },
  "kernelspec": {
   "display_name": "Python 3",
   "language": "python",
   "name": "python3"
  },
  "language_info": {
   "codemirror_mode": {
    "name": "ipython",
    "version": 3
   },
   "file_extension": ".py",
   "mimetype": "text/x-python",
   "name": "python",
   "nbconvert_exporter": "python",
   "pygments_lexer": "ipython3",
   "version": "3.8.5"
  }
 },
 "nbformat": 4,
 "nbformat_minor": 2
}

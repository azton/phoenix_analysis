{
 "cells": [
  {
   "cell_type": "code",
   "execution_count": 26,
   "metadata": {},
   "outputs": [],
   "source": [
    "import yt, json, glob\n",
    "import numpy as np\n",
    "import matplotlib\n",
    "import matplotlib.pyplot as plt"
   ]
  },
  {
   "cell_type": "code",
   "execution_count": null,
   "metadata": {},
   "outputs": [],
   "source": [
    "fig, ax = plt.subplots(3,3, sharex=True, figsize=[9,6])\n",
    "bins = np.linspace(5.5, 9, 25)\n",
    "bins = 10**bins\n",
    "sims = ['phx256-1','phx256-2', 'phx512']\n",
    "outs = [[440, 840, 1240], [280, 680, 1080],[380, 680, 980]]\n",
    "for j, (sim, dlist) in enumerate(zip(sims, outs)):\n",
    "    for i, out in enumerate(dlist):\n",
    "        logfiles = glob.glob('halo_logs/*_%s_RD%04d-*.json'%(sim, out))\n",
    "        with open(logfiles[0], 'r') as f:\n",
    "            data = json.load(f)\n",
    "        for n in range(1, len(logfiles)): # iterate rest of files to combine them all to one file\n",
    "            with open(logfiles[n], 'r') as f:\n",
    "                new = json.load(f)\n",
    "            for k in data.keys():\n",
    "    #             print(k)\n",
    "                data[k] += new[k]\n",
    "\n",
    "        mvir = np.array(data['halo_mvir'])\n",
    "        mstar = np.array(data['halo_mstar'])\n",
    "        mgalaxy = mvir[mstar > 0]\n",
    "        p3gal = np.array(data['halo_live_p3cnt'])\n",
    "        p3postgal = np.array(data['halo_remnant_p3cnt'])\n",
    "        mp3r = mvir[p3postgal > 0]\n",
    "        mp3 = mvir[p3gal > 0]\n",
    "\n",
    "        mvir = mvir[mvir > 5e5]\n",
    "        labels = ['$M_{\\\\rm vir}$', \n",
    "                '$M_{\\\\rm vir} | M_* > 0$',\n",
    "                '$M_{\\\\rm vir} | N_{\\\\rm PIII} > 0$',\n",
    "                '$M_{\\\\rm vir} | N_{\\\\rm rem} > 0$']\n",
    "        colors = ['tab:blue','tab:orange','tab:cyan','tab:gray']\n",
    "        pdata = [mvir, mgalaxy, mp3, mp3r]\n",
    "        maxx=0\n",
    "        for jj, dat in enumerate(pdata):\n",
    "            hist, bins = np.histogram(dat, bins=bins)\n",
    "            pbins = np.array([bins[k]+bins[k+1] for k in range(len(bins)-1)])\n",
    "            ax[i][j].plot(pbins, hist, label=labels[jj], color=colors[jj], alpha=0.7, linewidth=2)\n",
    "            maxx = max(max(hist), maxx)\n",
    "        ax[i][j].vlines([1e6, 3e6, 1e7, 3e7, 1e8], 0, 1e4, linestyles='dotted', alpha=0.5)\n",
    "        ax[i][j].set_yscale('log')\n",
    "        ax[i][j].set_xscale('log')\n",
    "        ax[i][j].set_xlim(6e5, 5e8)\n",
    "        ax[i][j].set_ylabel('N ($z=$%0.2f)'%data['halo_redshift'][0])\n",
    "        ax[i][j].set_ylim(1,3e3)\n",
    "\n",
    "plt.subplots_adjust(hspace=0.05, wspace=0.34)\n",
    "ax[0][0].legend(frameon=False)\n",
    "ax[0][0].set_title('phx256-1')\n",
    "ax[0][1].set_title('phx256-2')\n",
    "ax[0][2].set_title('phx512')\n",
    "\n",
    "fig.supxlabel('M [M$_\\odot]$')\n",
    "plt.savefig('./images/phx_halodist.pdf', bbox_inches='tight')"
   ]
  },
  {
   "cell_type": "code",
   "execution_count": null,
   "metadata": {},
   "outputs": [],
   "source": []
  }
 ],
 "metadata": {
  "interpreter": {
   "hash": "64bf5bb60213606e935f7f838534bb71b9d44066277c79d1da02e07e5f3489d9"
  },
  "kernelspec": {
   "display_name": "Python 3",
   "language": "python",
   "name": "python3"
  },
  "language_info": {
   "codemirror_mode": {
    "name": "ipython",
    "version": 3
   },
   "file_extension": ".py",
   "mimetype": "text/x-python",
   "name": "python",
   "nbconvert_exporter": "python",
   "pygments_lexer": "ipython3",
   "version": "3.8.5"
  }
 },
 "nbformat": 4,
 "nbformat_minor": 2
}
